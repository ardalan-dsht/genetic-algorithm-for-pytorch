{
 "cells": [
  {
   "cell_type": "code",
   "execution_count": null,
   "metadata": {},
   "outputs": [],
   "source": [
    "import torch\n",
    "from torch import nn\n",
    "from sklearn.datasets import make_classification\n",
    "from sklearn.preprocessing import StandardScaler\n",
    "from sklearn.model_selection import train_test_split\n",
    "\n",
    "from genetic_algorithm import GeneticAlgorithm"
   ]
  },
  {
   "cell_type": "code",
   "execution_count": null,
   "metadata": {},
   "outputs": [],
   "source": [
    "# Create a very simple Neural Network.\n",
    "class NeuralNet(nn.Module):\n",
    "    def __init__(self):\n",
    "        super().__init__()\n",
    "        self.input = nn.Linear(2048,200, bias=True)\n",
    "        self.hidden = nn.Sequential(*[nn.Linear(200,200, bias=True) for i in range(4)])\n",
    "        self.output = nn.Linear(200,1,bias=True)\n",
    "        \n",
    "    def forward(self, x):\n",
    "        x = self.input(x)\n",
    "        x = self.hidden(x)\n",
    "        x = self.output(x)\n",
    "        return torch.sigmoid(x)"
   ]
  },
  {
   "cell_type": "code",
   "execution_count": null,
   "metadata": {},
   "outputs": [],
   "source": [
    "# Create simple classification dataset.\n",
    "x, y = make_classification(n_samples=10_000, n_features=2048, n_classes=2, n_informative=4,n_redundant=0,class_sep=0.5, random_state=17)\n",
    "scaler = StandardScaler()\n",
    "x = torch.from_numpy(scaler.fit_transform(x)).to(torch.float32)"
   ]
  },
  {
   "cell_type": "code",
   "execution_count": null,
   "metadata": {},
   "outputs": [],
   "source": [
    "# Train model\n",
    "genetic_trainer = GeneticAlgorithm(NeuralNet(), 1_000_000, 0.3,0.5, 0.005, torch.device(\"cpu\"))\n",
    "model = genetic_trainer.fit(10_000, x, y)\n",
    "model"
   ]
  }
 ],
 "metadata": {
  "kernelspec": {
   "display_name": "ml",
   "language": "python",
   "name": "python3"
  },
  "language_info": {
   "codemirror_mode": {
    "name": "ipython",
    "version": 3
   },
   "file_extension": ".py",
   "mimetype": "text/x-python",
   "name": "python",
   "nbconvert_exporter": "python",
   "pygments_lexer": "ipython3",
   "version": "3.11.5"
  }
 },
 "nbformat": 4,
 "nbformat_minor": 2
}
